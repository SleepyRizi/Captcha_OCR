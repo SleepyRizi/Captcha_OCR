{
 "cells": [
  {
   "cell_type": "markdown",
   "id": "994b61e0",
   "metadata": {},
   "source": [
    "## 1. Import Liberaries"
   ]
  },
  {
   "cell_type": "code",
   "execution_count": 1,
   "id": "30bc8cc8",
   "metadata": {},
   "outputs": [],
   "source": [
    "import tensorflow as tf\n",
    "from object_detection.utils import label_map_util\n",
    "from object_detection.utils import visualization_utils as viz_utils\n",
    "\n",
    "import warnings\n",
    "warnings.filterwarnings('ignore')"
   ]
  },
  {
   "cell_type": "markdown",
   "id": "d08fda2a",
   "metadata": {},
   "source": [
    "## 1.1 Load the model"
   ]
  },
  {
   "cell_type": "code",
   "execution_count": 2,
   "id": "b9d760dc",
   "metadata": {},
   "outputs": [
    {
     "name": "stdout",
     "output_type": "stream",
     "text": [
      "Loading model...Done!\n"
     ]
    }
   ],
   "source": [
    "IMAGE_SIZE = (12, 8) # Output display size as you want\n",
    "PATH_TO_SAVED_MODEL=\"inference_graph\\\\saved_model\\\\\"\n",
    "print('Loading model...', end='')\n",
    "\n",
    "\n",
    "# start= time.time()\n",
    "# Load saved model and build the detection function\n",
    "detect_fn=tf.saved_model.load(PATH_TO_SAVED_MODEL)\n",
    "\n",
    "print('Done!')\n"
   ]
  },
  {
   "cell_type": "markdown",
   "id": "859de650",
   "metadata": {},
   "source": [
    "## 2. Load and convert the image into tensor and pass to model "
   ]
  },
  {
   "cell_type": "code",
   "execution_count": 67,
   "id": "d40875b4",
   "metadata": {},
   "outputs": [],
   "source": [
    "from PIL import Image\n",
    "import numpy as np\n",
    "\n",
    "\n",
    "category_index=label_map_util.create_category_index_from_labelmap(\"labelmap.pbtxt\",use_display_name=True)\n",
    "\n",
    "def load_image_into_numpy_array(path):\n",
    "\n",
    "    return np.array(Image.open(path))\n",
    "\n",
    "image_path = \"2Jbdy.jpg\"\n",
    "\n",
    "image_np = load_image_into_numpy_array(image_path)\n",
    "\n",
    "input_tensor = tf.convert_to_tensor(image_np)\n",
    "\n",
    "input_tensor = input_tensor[tf.newaxis, ...]\n",
    "\n",
    "detections = detect_fn(input_tensor)\n",
    "\n",
    "num_detections = int(detections.pop('num_detections'))\n",
    "detections = {key: value[0, :num_detections].numpy()\n",
    "              for key, value in detections.items()}\n",
    "\n",
    "# threshold=0.3\n",
    "# classes = [cls for cls in detections['detection_classes'][detections['detection_scores'] > threshold]]\n",
    "# classes = [category_index.get(cls)['name'] for cls in classes]\n",
    "\n",
    "# classes"
   ]
  },
  {
   "cell_type": "code",
   "execution_count": 68,
   "id": "1296dcfc",
   "metadata": {},
   "outputs": [],
   "source": [
    "# detections.keys()"
   ]
  },
  {
   "cell_type": "code",
   "execution_count": 69,
   "id": "db7c8f44",
   "metadata": {},
   "outputs": [],
   "source": [
    "boxes=detections['detection_boxes']\n",
    "classes=detections['detection_classes']\n",
    "scores=detections['detection_scores']"
   ]
  },
  {
   "cell_type": "markdown",
   "id": "e2a96270",
   "metadata": {},
   "source": [
    "## Loop through model predictions and set minimum confidence score"
   ]
  },
  {
   "cell_type": "code",
   "execution_count": 70,
   "id": "46a00575",
   "metadata": {},
   "outputs": [],
   "source": [
    "captcha_array = []\n",
    "for i,b in enumerate(boxes):\n",
    "    for Symbol in range(63):\n",
    "        if classes[i] == Symbol: # check if detected class equal to our symbols\n",
    "            if scores[i] >= 0.30: # do something only if detected score more han 0.30\n",
    "                                            # x-left        # x-right\n",
    "                mid_x = (boxes[i][1]+boxes[i][3])/2 # find x coordinates center of letter\n",
    "            # to captcha_array array save detected Symbol, middle X coordinates and detection percentage\n",
    "                captcha_array.append([category_index[Symbol].get('name'), mid_x, scores[i]])"
   ]
  },
  {
   "cell_type": "markdown",
   "id": "a5e62ecf",
   "metadata": {},
   "source": [
    "### Again validatating incase output is less than length of 5"
   ]
  },
  {
   "cell_type": "code",
   "execution_count": 71,
   "id": "77ef05a4",
   "metadata": {},
   "outputs": [],
   "source": [
    "if len(captcha_array) <5:\n",
    "    captcha_array = []\n",
    "    for i,b in enumerate(boxes):\n",
    "        for Symbol in range(63):\n",
    "            if classes[i] == Symbol: # check if detected class equal to our symbols\n",
    "                if scores[i] >= 0.20: # do something only if detected score more han 0.20\n",
    "                                            # x-left        # x-right\n",
    "                    mid_x = (boxes[i][1]+boxes[i][3])/2 # find x coordinates center of letter\n",
    "            # to captcha_array array save detected Symbol, middle X coordinates and detection percentage\n",
    "                    captcha_array.append([category_index[Symbol].get('name'), mid_x, scores[i]])\n",
    "    "
   ]
  },
  {
   "cell_type": "markdown",
   "id": "ee235c34",
   "metadata": {},
   "source": [
    "## Preserving order/sequence of the output"
   ]
  },
  {
   "cell_type": "code",
   "execution_count": 72,
   "id": "280a1f25",
   "metadata": {},
   "outputs": [],
   "source": [
    "for number in range(20):\n",
    "    for captcha_number in range(len(captcha_array)-1):\n",
    "        if captcha_array[captcha_number][1] > captcha_array[captcha_number+1][1]:\n",
    "            temporary_captcha = captcha_array[captcha_number]\n",
    "            captcha_array[captcha_number] = captcha_array[captcha_number+1]\n",
    "            captcha_array[captcha_number+1] = temporary_captcha"
   ]
  },
  {
   "cell_type": "markdown",
   "id": "2feb8068",
   "metadata": {},
   "source": [
    "### Calulating average error distrance and validating"
   ]
  },
  {
   "cell_type": "code",
   "execution_count": 73,
   "id": "91628dad",
   "metadata": {},
   "outputs": [],
   "source": [
    "average_distance_error=3\n",
    "average = 0\n",
    "captcha_len = len(captcha_array)-1\n",
    "while captcha_len > 0:\n",
    "    average += captcha_array[captcha_len][1]- captcha_array[captcha_len-1][1]\n",
    "    captcha_len -= 1\n",
    "\n",
    "\n",
    "average = average/(len(captcha_array)+average_distance_error)\n",
    "\n",
    "captcha_array_filtered = list(captcha_array)\n",
    "captcha_len = len(captcha_array)-1\n",
    "while captcha_len > 0:\n",
    "    if captcha_array[captcha_len][1]- captcha_array[captcha_len-1][1] < average:\n",
    "        if captcha_array[captcha_len][2] > captcha_array[captcha_len-1][2]:\n",
    "            del captcha_array_filtered[captcha_len-1]\n",
    "        else:\n",
    "            del captcha_array_filtered[captcha_len]\n",
    "    captcha_len -= 1\n",
    "\n",
    "# Get final string from filtered CAPTCHA array\n",
    "captcha_string = \"\"\n",
    "for captcha_letter in range(len(captcha_array_filtered)):\n",
    "    captcha_string += captcha_array_filtered[captcha_letter][0]"
   ]
  },
  {
   "cell_type": "code",
   "execution_count": 74,
   "id": "102f7c0d",
   "metadata": {},
   "outputs": [
    {
     "data": {
      "text/plain": [
       "'2Jbdy'"
      ]
     },
     "execution_count": 74,
     "metadata": {},
     "output_type": "execute_result"
    }
   ],
   "source": [
    "captcha_string"
   ]
  },
  {
   "cell_type": "code",
   "execution_count": null,
   "id": "e83fade7",
   "metadata": {},
   "outputs": [],
   "source": []
  }
 ],
 "metadata": {
  "kernelspec": {
   "display_name": "Python 3 (ipykernel)",
   "language": "python",
   "name": "python3"
  },
  "language_info": {
   "codemirror_mode": {
    "name": "ipython",
    "version": 3
   },
   "file_extension": ".py",
   "mimetype": "text/x-python",
   "name": "python",
   "nbconvert_exporter": "python",
   "pygments_lexer": "ipython3",
   "version": "3.9.13"
  }
 },
 "nbformat": 4,
 "nbformat_minor": 5
}
